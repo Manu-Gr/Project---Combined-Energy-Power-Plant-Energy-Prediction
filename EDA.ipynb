{
 "cells": [
  {
   "cell_type": "markdown",
   "id": "682f47dc",
   "metadata": {},
   "source": [
    "### Import Necessary Libraries "
   ]
  },
  {
   "cell_type": "code",
   "execution_count": 1,
   "id": "c898465c",
   "metadata": {},
   "outputs": [],
   "source": [
    "import pandas as pd\n",
    "import numpy as np\n",
    "import seaborn as sns\n",
    "from scipy import stats\n",
    "import matplotlib.pyplot as plt\n",
    "from sklearn.preprocessing import StandardScaler\n",
    "from sklearn.model_selection import train_test_split\n",
    "from sklearn.metrics import mean_squared_error,mean_absolute_error\n",
    "import warnings\n",
    "warnings.filterwarnings('ignore')"
   ]
  },
  {
   "cell_type": "markdown",
   "id": "9b9b66a4",
   "metadata": {},
   "source": [
    "#### Import the Dataset"
   ]
  },
  {
   "cell_type": "code",
   "execution_count": 2,
   "id": "50dc7248",
   "metadata": {},
   "outputs": [],
   "source": [
    "data = pd.read_csv(r'D:\\Study Materials\\Projects\\energy_production.csv',sep=';')"
   ]
  },
  {
   "cell_type": "code",
   "execution_count": 3,
   "id": "d5c00786",
   "metadata": {},
   "outputs": [
    {
     "data": {
      "text/html": [
       "<div>\n",
       "<style scoped>\n",
       "    .dataframe tbody tr th:only-of-type {\n",
       "        vertical-align: middle;\n",
       "    }\n",
       "\n",
       "    .dataframe tbody tr th {\n",
       "        vertical-align: top;\n",
       "    }\n",
       "\n",
       "    .dataframe thead th {\n",
       "        text-align: right;\n",
       "    }\n",
       "</style>\n",
       "<table border=\"1\" class=\"dataframe\">\n",
       "  <thead>\n",
       "    <tr style=\"text-align: right;\">\n",
       "      <th></th>\n",
       "      <th>temperature</th>\n",
       "      <th>exhaust_vacuum</th>\n",
       "      <th>amb_pressure</th>\n",
       "      <th>r_humidity</th>\n",
       "      <th>energy_production</th>\n",
       "    </tr>\n",
       "  </thead>\n",
       "  <tbody>\n",
       "    <tr>\n",
       "      <th>0</th>\n",
       "      <td>9.59</td>\n",
       "      <td>38.56</td>\n",
       "      <td>1017.01</td>\n",
       "      <td>60.10</td>\n",
       "      <td>481.30</td>\n",
       "    </tr>\n",
       "    <tr>\n",
       "      <th>1</th>\n",
       "      <td>12.04</td>\n",
       "      <td>42.34</td>\n",
       "      <td>1019.72</td>\n",
       "      <td>94.67</td>\n",
       "      <td>465.36</td>\n",
       "    </tr>\n",
       "    <tr>\n",
       "      <th>2</th>\n",
       "      <td>13.87</td>\n",
       "      <td>45.08</td>\n",
       "      <td>1024.42</td>\n",
       "      <td>81.69</td>\n",
       "      <td>465.48</td>\n",
       "    </tr>\n",
       "    <tr>\n",
       "      <th>3</th>\n",
       "      <td>13.72</td>\n",
       "      <td>54.30</td>\n",
       "      <td>1017.89</td>\n",
       "      <td>79.08</td>\n",
       "      <td>467.05</td>\n",
       "    </tr>\n",
       "    <tr>\n",
       "      <th>4</th>\n",
       "      <td>15.14</td>\n",
       "      <td>49.64</td>\n",
       "      <td>1023.78</td>\n",
       "      <td>75.00</td>\n",
       "      <td>463.58</td>\n",
       "    </tr>\n",
       "  </tbody>\n",
       "</table>\n",
       "</div>"
      ],
      "text/plain": [
       "   temperature  exhaust_vacuum  amb_pressure  r_humidity  energy_production\n",
       "0         9.59           38.56       1017.01       60.10             481.30\n",
       "1        12.04           42.34       1019.72       94.67             465.36\n",
       "2        13.87           45.08       1024.42       81.69             465.48\n",
       "3        13.72           54.30       1017.89       79.08             467.05\n",
       "4        15.14           49.64       1023.78       75.00             463.58"
      ]
     },
     "execution_count": 3,
     "metadata": {},
     "output_type": "execute_result"
    }
   ],
   "source": [
    "data.head()"
   ]
  },
  {
   "cell_type": "markdown",
   "id": "92dacad8",
   "metadata": {},
   "source": [
    "#### Data Description\n",
    "\n",
    "The variables, or features, are the following:\n",
    "* temperature, in degrees Celsius.\n",
    "* exhaust_vacuum, in cm Hg.\n",
    "* Ambient pressure  (amb_pressure) in millibar.\n",
    "* Relative humidity (r_humidity) in percentage.,\n",
    "* energy_production, in MW, net hourly electrical energy output.\n"
   ]
  },
  {
   "cell_type": "markdown",
   "id": "d4bac4a7",
   "metadata": {},
   "source": [
    "#### Initial Analysis"
   ]
  },
  {
   "cell_type": "code",
   "execution_count": 4,
   "id": "9cde2f51",
   "metadata": {},
   "outputs": [
    {
     "data": {
      "text/plain": [
       "temperature          0\n",
       "exhaust_vacuum       0\n",
       "amb_pressure         0\n",
       "r_humidity           0\n",
       "energy_production    0\n",
       "dtype: int64"
      ]
     },
     "execution_count": 4,
     "metadata": {},
     "output_type": "execute_result"
    }
   ],
   "source": [
    "data.isnull().sum()"
   ]
  },
  {
   "cell_type": "markdown",
   "id": "5b624c18",
   "metadata": {},
   "source": [
    "#### There is no null values present in the given dataset"
   ]
  },
  {
   "cell_type": "code",
   "execution_count": 5,
   "id": "1021f4f5",
   "metadata": {},
   "outputs": [
    {
     "name": "stdout",
     "output_type": "stream",
     "text": [
      "<class 'pandas.core.frame.DataFrame'>\n",
      "RangeIndex: 9568 entries, 0 to 9567\n",
      "Data columns (total 5 columns):\n",
      " #   Column             Non-Null Count  Dtype  \n",
      "---  ------             --------------  -----  \n",
      " 0   temperature        9568 non-null   float64\n",
      " 1   exhaust_vacuum     9568 non-null   float64\n",
      " 2   amb_pressure       9568 non-null   float64\n",
      " 3   r_humidity         9568 non-null   float64\n",
      " 4   energy_production  9568 non-null   float64\n",
      "dtypes: float64(5)\n",
      "memory usage: 373.9 KB\n"
     ]
    }
   ],
   "source": [
    "data.info()"
   ]
  },
  {
   "cell_type": "markdown",
   "id": "cee30035",
   "metadata": {},
   "source": [
    "#### All the data is of float datatype "
   ]
  },
  {
   "cell_type": "code",
   "execution_count": 6,
   "id": "95f4d8a8",
   "metadata": {},
   "outputs": [
    {
     "data": {
      "text/html": [
       "<div>\n",
       "<style scoped>\n",
       "    .dataframe tbody tr th:only-of-type {\n",
       "        vertical-align: middle;\n",
       "    }\n",
       "\n",
       "    .dataframe tbody tr th {\n",
       "        vertical-align: top;\n",
       "    }\n",
       "\n",
       "    .dataframe thead th {\n",
       "        text-align: right;\n",
       "    }\n",
       "</style>\n",
       "<table border=\"1\" class=\"dataframe\">\n",
       "  <thead>\n",
       "    <tr style=\"text-align: right;\">\n",
       "      <th></th>\n",
       "      <th>temperature</th>\n",
       "      <th>exhaust_vacuum</th>\n",
       "      <th>amb_pressure</th>\n",
       "      <th>r_humidity</th>\n",
       "      <th>energy_production</th>\n",
       "    </tr>\n",
       "  </thead>\n",
       "  <tbody>\n",
       "    <tr>\n",
       "      <th>count</th>\n",
       "      <td>9568.000000</td>\n",
       "      <td>9568.000000</td>\n",
       "      <td>9568.000000</td>\n",
       "      <td>9568.000000</td>\n",
       "      <td>9568.000000</td>\n",
       "    </tr>\n",
       "    <tr>\n",
       "      <th>mean</th>\n",
       "      <td>19.651231</td>\n",
       "      <td>54.305804</td>\n",
       "      <td>1013.259078</td>\n",
       "      <td>73.308978</td>\n",
       "      <td>454.365009</td>\n",
       "    </tr>\n",
       "    <tr>\n",
       "      <th>std</th>\n",
       "      <td>7.452473</td>\n",
       "      <td>12.707893</td>\n",
       "      <td>5.938784</td>\n",
       "      <td>14.600269</td>\n",
       "      <td>17.066995</td>\n",
       "    </tr>\n",
       "    <tr>\n",
       "      <th>min</th>\n",
       "      <td>1.810000</td>\n",
       "      <td>25.360000</td>\n",
       "      <td>992.890000</td>\n",
       "      <td>25.560000</td>\n",
       "      <td>420.260000</td>\n",
       "    </tr>\n",
       "    <tr>\n",
       "      <th>25%</th>\n",
       "      <td>13.510000</td>\n",
       "      <td>41.740000</td>\n",
       "      <td>1009.100000</td>\n",
       "      <td>63.327500</td>\n",
       "      <td>439.750000</td>\n",
       "    </tr>\n",
       "    <tr>\n",
       "      <th>50%</th>\n",
       "      <td>20.345000</td>\n",
       "      <td>52.080000</td>\n",
       "      <td>1012.940000</td>\n",
       "      <td>74.975000</td>\n",
       "      <td>451.550000</td>\n",
       "    </tr>\n",
       "    <tr>\n",
       "      <th>75%</th>\n",
       "      <td>25.720000</td>\n",
       "      <td>66.540000</td>\n",
       "      <td>1017.260000</td>\n",
       "      <td>84.830000</td>\n",
       "      <td>468.430000</td>\n",
       "    </tr>\n",
       "    <tr>\n",
       "      <th>max</th>\n",
       "      <td>37.110000</td>\n",
       "      <td>81.560000</td>\n",
       "      <td>1033.300000</td>\n",
       "      <td>100.160000</td>\n",
       "      <td>495.760000</td>\n",
       "    </tr>\n",
       "  </tbody>\n",
       "</table>\n",
       "</div>"
      ],
      "text/plain": [
       "       temperature  exhaust_vacuum  amb_pressure   r_humidity  \\\n",
       "count  9568.000000     9568.000000   9568.000000  9568.000000   \n",
       "mean     19.651231       54.305804   1013.259078    73.308978   \n",
       "std       7.452473       12.707893      5.938784    14.600269   \n",
       "min       1.810000       25.360000    992.890000    25.560000   \n",
       "25%      13.510000       41.740000   1009.100000    63.327500   \n",
       "50%      20.345000       52.080000   1012.940000    74.975000   \n",
       "75%      25.720000       66.540000   1017.260000    84.830000   \n",
       "max      37.110000       81.560000   1033.300000   100.160000   \n",
       "\n",
       "       energy_production  \n",
       "count        9568.000000  \n",
       "mean          454.365009  \n",
       "std            17.066995  \n",
       "min           420.260000  \n",
       "25%           439.750000  \n",
       "50%           451.550000  \n",
       "75%           468.430000  \n",
       "max           495.760000  "
      ]
     },
     "execution_count": 6,
     "metadata": {},
     "output_type": "execute_result"
    }
   ],
   "source": [
    "data.describe()"
   ]
  },
  {
   "cell_type": "markdown",
   "id": "f9fcd3bb",
   "metadata": {},
   "source": [
    "* Temperature variable ranges between 1.81 C - 37.11 C\n",
    "* Exhaust vaccum variable ranges between 25.36 Hg - 81.56 Hg\n",
    "* Ambient Pressure variable ranges between 992.89 millibar - 1033.30 millibar\n",
    "* Relative Humidity variable ranges between 25.56 % - 100.16% "
   ]
  },
  {
   "cell_type": "markdown",
   "id": "b6c44e0f",
   "metadata": {},
   "source": [
    "### Exploratory Data Analysis"
   ]
  },
  {
   "cell_type": "markdown",
   "id": "60f8dae0",
   "metadata": {},
   "source": [
    "## Understanding Each Variable and Distribution"
   ]
  },
  {
   "cell_type": "markdown",
   "id": "16b6b801",
   "metadata": {},
   "source": [
    "### Temperature "
   ]
  },
  {
   "cell_type": "code",
   "execution_count": 7,
   "id": "de01e408",
   "metadata": {},
   "outputs": [
    {
     "data": {
      "image/png": "[encoded data removed]",
      "text/plain": [
       "<Figure size 432x288 with 1 Axes>"
      ]
     },
     "metadata": {
      "needs_background": "light"
     },
     "output_type": "display_data"
    }
   ],
   "source": [
    "sns.histplot(data['temperature'])\n",
    "plt.show()"
   ]
  },
  {
   "cell_type": "code",
   "execution_count": 8,
   "id": "704836d5",
   "metadata": {},
   "outputs": [
    {
     "data": {
      "text/plain": [
       "count    9568.000000\n",
       "mean       19.651231\n",
       "std         7.452473\n",
       "min         1.810000\n",
       "25%        13.510000\n",
       "50%        20.345000\n",
       "75%        25.720000\n",
       "max        37.110000\n",
       "Name: temperature, dtype: float64"
      ]
     },
     "execution_count": 8,
     "metadata": {},
     "output_type": "execute_result"
    }
   ],
   "source": [
    "data['temperature'].describe()"
   ]
  },
  {
   "cell_type": "code",
   "execution_count": 9,
   "id": "0dd093ee",
   "metadata": {},
   "outputs": [
    {
     "data": {
      "text/plain": [
       "-0.1363930494749227"
      ]
     },
     "execution_count": 9,
     "metadata": {},
     "output_type": "execute_result"
    }
   ],
   "source": [
    "data['temperature'].skew()"
   ]
  },
  {
   "cell_type": "markdown",
   "id": "c60ef370",
   "metadata": {},
   "source": [
    "* Majority of the Temperature value falls between 13.51 to 25.72 \n",
    "* The observations are concentrated around the mean\n",
    "* Negatively skewed data indicates that extreme values are located towards the left and most of the values are present to the right of the mean\n",
    "* Histogram shows a normal distribution"
   ]
  },
  {
   "cell_type": "markdown",
   "id": "c181bf47",
   "metadata": {},
   "source": [
    "### Exhaust Vaccum"
   ]
  },
  {
   "cell_type": "code",
   "execution_count": 10,
   "id": "313ab1a7",
   "metadata": {},
   "outputs": [
    {
     "data": {
      "image/png": "[encoded data removed]",
      "text/plain": [
       "<Figure size 432x288 with 1 Axes>"
      ]
     },
     "metadata": {
      "needs_background": "light"
     },
     "output_type": "display_data"
    }
   ],
   "source": [
    "sns.histplot(data['exhaust_vacuum'])\n",
    "plt.show()"
   ]
  },
  {
   "cell_type": "code",
   "execution_count": 11,
   "id": "6e58846a",
   "metadata": {},
   "outputs": [
    {
     "data": {
      "text/plain": [
       "count    9568.000000\n",
       "mean       54.305804\n",
       "std        12.707893\n",
       "min        25.360000\n",
       "25%        41.740000\n",
       "50%        52.080000\n",
       "75%        66.540000\n",
       "max        81.560000\n",
       "Name: exhaust_vacuum, dtype: float64"
      ]
     },
     "execution_count": 11,
     "metadata": {},
     "output_type": "execute_result"
    }
   ],
   "source": [
    "data['exhaust_vacuum'].describe()"
   ]
  },
  {
   "cell_type": "code",
   "execution_count": 12,
   "id": "dd57e469",
   "metadata": {},
   "outputs": [
    {
     "data": {
      "text/plain": [
       "0.19852101136676173"
      ]
     },
     "execution_count": 12,
     "metadata": {},
     "output_type": "execute_result"
    }
   ],
   "source": [
    "data['exhaust_vacuum'].skew()"
   ]
  },
  {
   "cell_type": "markdown",
   "id": "115afc96",
   "metadata": {},
   "source": [
    "* Majority of the Exhaust Vaccum value falls between 41.74 to 66.54 \n",
    "* The observations are concentrated around the mean\n",
    "* Positively skewed data indicates that extreme values are located towards the right and most of the values are present to the left of the mean\n",
    "* Histogram shows a normal distribution"
   ]
  },
  {
   "cell_type": "markdown",
   "id": "8c218360",
   "metadata": {},
   "source": [
    "### Ambient Pressure"
   ]
  },
  {
   "cell_type": "code",
   "execution_count": 13,
   "id": "42ec0729",
   "metadata": {},
   "outputs": [
    {
     "data": {
      "image/png": "[encoded data removed]",
      "text/plain": [
       "<Figure size 432x288 with 1 Axes>"
      ]
     },
     "metadata": {
      "needs_background": "light"
     },
     "output_type": "display_data"
    }
   ],
   "source": [
    "sns.histplot(data['amb_pressure'])\n",
    "plt.show()"
   ]
  },
  {
   "cell_type": "code",
   "execution_count": 14,
   "id": "5a6ee94c",
   "metadata": {},
   "outputs": [
    {
     "data": {
      "text/plain": [
       "count    9568.000000\n",
       "mean     1013.259078\n",
       "std         5.938784\n",
       "min       992.890000\n",
       "25%      1009.100000\n",
       "50%      1012.940000\n",
       "75%      1017.260000\n",
       "max      1033.300000\n",
       "Name: amb_pressure, dtype: float64"
      ]
     },
     "execution_count": 14,
     "metadata": {},
     "output_type": "execute_result"
    }
   ],
   "source": [
    "data['amb_pressure'].describe()"
   ]
  },
  {
   "cell_type": "code",
   "execution_count": 15,
   "id": "504f46e6",
   "metadata": {},
   "outputs": [
    {
     "data": {
      "text/plain": [
       "0.26544469358258616"
      ]
     },
     "execution_count": 15,
     "metadata": {},
     "output_type": "execute_result"
    }
   ],
   "source": [
    "data['amb_pressure'].skew()"
   ]
  },
  {
   "cell_type": "markdown",
   "id": "af0689d4",
   "metadata": {},
   "source": [
    "* Majority of the Exhaust Vaccum value falls between 1009.100 to 1017.260 \n",
    "* The observations are concentrated around the mean\n",
    "* Positively skewed data indicates that extreme values are located towards the right and most of the values are present to the left of the mean\n",
    "* Histogram shows a normal distribution"
   ]
  },
  {
   "cell_type": "markdown",
   "id": "52b832c7",
   "metadata": {},
   "source": [
    "### Relative Humidity"
   ]
  },
  {
   "cell_type": "code",
   "execution_count": 16,
   "id": "24164bb0",
   "metadata": {},
   "outputs": [
    {
     "data": {
      "image/png": "[encoded data removed]",
      "text/plain": [
       "<Figure size 432x288 with 1 Axes>"
      ]
     },
     "metadata": {
      "needs_background": "light"
     },
     "output_type": "display_data"
    }
   ],
   "source": [
    "sns.histplot(data['r_humidity'])\n",
    "plt.show()"
   ]
  },
  {
   "cell_type": "code",
   "execution_count": 17,
   "id": "2a45a616",
   "metadata": {},
   "outputs": [
    {
     "data": {
      "text/plain": [
       "count    9568.000000\n",
       "mean       73.308978\n",
       "std        14.600269\n",
       "min        25.560000\n",
       "25%        63.327500\n",
       "50%        74.975000\n",
       "75%        84.830000\n",
       "max       100.160000\n",
       "Name: r_humidity, dtype: float64"
      ]
     },
     "execution_count": 17,
     "metadata": {},
     "output_type": "execute_result"
    }
   ],
   "source": [
    "data['r_humidity'].describe()"
   ]
  },
  {
   "cell_type": "code",
   "execution_count": 18,
   "id": "6d0ce510",
   "metadata": {},
   "outputs": [
    {
     "data": {
      "text/plain": [
       "-0.4318387491833359"
      ]
     },
     "execution_count": 18,
     "metadata": {},
     "output_type": "execute_result"
    }
   ],
   "source": [
    "data['r_humidity'].skew()"
   ]
  },
  {
   "cell_type": "markdown",
   "id": "ab0a7f23",
   "metadata": {},
   "source": [
    "* Majority of the Exhaust Vaccum value falls between 63.327 to 84.830 \n",
    "* The observations are concentrated around the mean\n",
    "* Negatively skewed data indicates that extreme values are located towards the left and most of the values are present to the right of the mean\n",
    "* Histogram shows a normal distribution"
   ]
  },
  {
   "cell_type": "markdown",
   "id": "f6fbf5a8",
   "metadata": {},
   "source": [
    "### Energy Production"
   ]
  },
  {
   "cell_type": "code",
   "execution_count": 19,
   "id": "87f68d0f",
   "metadata": {},
   "outputs": [
    {
     "data": {
      "image/png": "[encoded data removed]",
      "text/plain": [
       "<Figure size 432x288 with 1 Axes>"
      ]
     },
     "metadata": {
      "needs_background": "light"
     },
     "output_type": "display_data"
    }
   ],
   "source": [
    "sns.histplot(data['energy_production'])\n",
    "plt.show()"
   ]
  },
  {
   "cell_type": "code",
   "execution_count": 20,
   "id": "1352b10c",
   "metadata": {},
   "outputs": [
    {
     "data": {
      "text/plain": [
       "count    9568.000000\n",
       "mean      454.365009\n",
       "std        17.066995\n",
       "min       420.260000\n",
       "25%       439.750000\n",
       "50%       451.550000\n",
       "75%       468.430000\n",
       "max       495.760000\n",
       "Name: energy_production, dtype: float64"
      ]
     },
     "execution_count": 20,
     "metadata": {},
     "output_type": "execute_result"
    }
   ],
   "source": [
    "data['energy_production'].describe()"
   ]
  },
  {
   "cell_type": "code",
   "execution_count": 21,
   "id": "6781c293",
   "metadata": {},
   "outputs": [
    {
     "data": {
      "text/plain": [
       "0.30650943542040227"
      ]
     },
     "execution_count": 21,
     "metadata": {},
     "output_type": "execute_result"
    }
   ],
   "source": [
    "data['energy_production'].skew()"
   ]
  },
  {
   "cell_type": "markdown",
   "id": "c9def5cf",
   "metadata": {},
   "source": [
    "* Majority of the Exhaust Vaccum value falls between 439.750 to 468.430 \n",
    "* The observations are concentrated around the mean\n",
    "* Positively skewed data indicates that extreme values are located towards the right and most of the values are present to the left of the mean\n",
    "* Histogram shows a normal distribution"
   ]
  },
  {
   "cell_type": "markdown",
   "id": "d7dce0b8",
   "metadata": {},
   "source": [
    "### Check For Outliers "
   ]
  },
  {
   "cell_type": "code",
   "execution_count": 22,
   "id": "3f371e12",
   "metadata": {},
   "outputs": [
    {
     "data": {
      "image/png": "[encoded data removed]",
      "text/plain": [
       "<Figure size 432x288 with 1 Axes>"
      ]
     },
     "metadata": {
      "needs_background": "light"
     },
     "output_type": "display_data"
    }
   ],
   "source": [
    "plt.boxplot(x='temperature',data=data)\n",
    "plt.show()"
   ]
  },
  {
   "cell_type": "code",
   "execution_count": 23,
   "id": "2705da13",
   "metadata": {},
   "outputs": [
    {
     "data": {
      "image/png": "[encoded data removed]",
      "text/plain": [
       "<Figure size 432x288 with 1 Axes>"
      ]
     },
     "metadata": {
      "needs_background": "light"
     },
     "output_type": "display_data"
    }
   ],
   "source": [
    "plt.boxplot(x='exhaust_vacuum',data=data)\n",
    "plt.show()"
   ]
  },
  {
   "cell_type": "code",
   "execution_count": 24,
   "id": "d48923cc",
   "metadata": {},
   "outputs": [
    {
     "data": {
      "image/png": "[encoded data removed]",
      "text/plain": [
       "<Figure size 432x288 with 1 Axes>"
      ]
     },
     "metadata": {
      "needs_background": "light"
     },
     "output_type": "display_data"
    }
   ],
   "source": [
    "plt.boxplot(x='amb_pressure',data=data)\n",
    "plt.show()"
   ]
  },
  {
   "cell_type": "code",
   "execution_count": 25,
   "id": "281fb69f",
   "metadata": {},
   "outputs": [
    {
     "data": {
      "image/png": "[encoded data removed]",
      "text/plain": [
       "<Figure size 432x288 with 1 Axes>"
      ]
     },
     "metadata": {
      "needs_background": "light"
     },
     "output_type": "display_data"
    }
   ],
   "source": [
    "plt.boxplot(x='r_humidity',data=data)\n",
    "plt.show()"
   ]
  },
  {
   "cell_type": "markdown",
   "id": "802bc842",
   "metadata": {},
   "source": [
    "#### Observation : There are no outliers present in temperature and exhaust vaccum and a few outliers are present in ambient pressure and relative humidity variable "
   ]
  },
  {
   "cell_type": "markdown",
   "id": "10e31045",
   "metadata": {},
   "source": [
    "### Assumption Check for Data"
   ]
  },
  {
   "cell_type": "markdown",
   "id": "f74fe5c2",
   "metadata": {},
   "source": [
    "#### 1. Check for Linearity "
   ]
  },
  {
   "cell_type": "code",
   "execution_count": 26,
   "id": "c8682622",
   "metadata": {},
   "outputs": [
    {
     "data": {
      "image/png": "[encoded data removed]",
      "text/plain": [
       "<Figure size 360x360 with 1 Axes>"
      ]
     },
     "metadata": {
      "needs_background": "light"
     },
     "output_type": "display_data"
    }
   ],
   "source": [
    "sns.lmplot(x='temperature',y='energy_production',data=data)\n",
    "plt.show()"
   ]
  },
  {
   "cell_type": "code",
   "execution_count": 27,
   "id": "c1c15e32",
   "metadata": {},
   "outputs": [
    {
     "data": {
      "image/png": "[encoded data removed]",
      "text/plain": [
       "<Figure size 360x360 with 1 Axes>"
      ]
     },
     "metadata": {
      "needs_background": "light"
     },
     "output_type": "display_data"
    }
   ],
   "source": [
    "sns.lmplot(x='exhaust_vacuum',y='energy_production',data=data)\n",
    "plt.show()"
   ]
  },
  {
   "cell_type": "code",
   "execution_count": 28,
   "id": "abd1ebb6",
   "metadata": {},
   "outputs": [
    {
     "data": {
      "image/png": "[encoded data removed]",
      "text/plain": [
       "<Figure size 360x360 with 1 Axes>"
      ]
     },
     "metadata": {
      "needs_background": "light"
     },
     "output_type": "display_data"
    }
   ],
   "source": [
    "sns.lmplot(x='amb_pressure',y='energy_production',data=data)\n",
    "plt.show()"
   ]
  },
  {
   "cell_type": "code",
   "execution_count": 29,
   "id": "0abf8edb",
   "metadata": {},
   "outputs": [
    {
     "data": {
      "image/png": "[encoded data removed]",
      "text/plain": [
       "<Figure size 360x360 with 1 Axes>"
      ]
     },
     "metadata": {
      "needs_background": "light"
     },
     "output_type": "display_data"
    }
   ],
   "source": [
    "sns.lmplot(x='r_humidity',y='energy_production',data=data)\n",
    "plt.show()"
   ]
  },
  {
   "cell_type": "markdown",
   "id": "6f022f0b",
   "metadata": {},
   "source": [
    "#### Observation : All of the input features are linearly co-related with my output"
   ]
  },
  {
   "cell_type": "markdown",
   "id": "277fc360",
   "metadata": {},
   "source": [
    "#### 2. Check for Normality Test"
   ]
  },
  {
   "cell_type": "markdown",
   "id": "2c19802d",
   "metadata": {},
   "source": [
    "#### Normality Check with qqplot"
   ]
  },
  {
   "cell_type": "code",
   "execution_count": 30,
   "id": "b8044df8",
   "metadata": {},
   "outputs": [
    {
     "data": {
      "image/png": "[encoded data removed]",
      "text/plain": [
       "<Figure size 432x288 with 1 Axes>"
      ]
     },
     "metadata": {
      "needs_background": "light"
     },
     "output_type": "display_data"
    }
   ],
   "source": [
    "stats.probplot(x = data['temperature'],dist='norm',plot=plt)\n",
    "plt.show()"
   ]
  },
  {
   "cell_type": "code",
   "execution_count": 31,
   "id": "be2b28d4",
   "metadata": {},
   "outputs": [
    {
     "data": {
      "image/png": "[encoded data removed]",
      "text/plain": [
       "<Figure size 432x288 with 1 Axes>"
      ]
     },
     "metadata": {
      "needs_background": "light"
     },
     "output_type": "display_data"
    }
   ],
   "source": [
    "stats.probplot(x = data['exhaust_vacuum'],dist='norm',plot=plt)\n",
    "plt.show()"
   ]
  },
  {
   "cell_type": "code",
   "execution_count": 32,
   "id": "22742bc5",
   "metadata": {},
   "outputs": [
    {
     "data": {
      "image/png": "[encoded data removed]",
      "text/plain": [
       "<Figure size 432x288 with 1 Axes>"
      ]
     },
     "metadata": {
      "needs_background": "light"
     },
     "output_type": "display_data"
    }
   ],
   "source": [
    "stats.probplot(x = data['amb_pressure'],dist='norm',plot=plt)\n",
    "plt.show()"
   ]
  },
  {
   "cell_type": "code",
   "execution_count": 33,
   "id": "f5e15acf",
   "metadata": {},
   "outputs": [
    {
     "data": {
      "image/png": "[encoded data removed]",
      "text/plain": [
       "<Figure size 432x288 with 1 Axes>"
      ]
     },
     "metadata": {
      "needs_background": "light"
     },
     "output_type": "display_data"
    }
   ],
   "source": [
    "stats.probplot(x = data['r_humidity'],dist='norm',plot=plt)\n",
    "plt.show()"
   ]
  },
  {
   "cell_type": "markdown",
   "id": "ea775471",
   "metadata": {},
   "source": [
    "#### Observation : Ambient_pressure and Relative Humidity pass the normality test "
   ]
  },
  {
   "cell_type": "markdown",
   "id": "0e73b722",
   "metadata": {},
   "source": [
    "#### 3. Check for Multi Collinearity"
   ]
  },
  {
   "cell_type": "code",
   "execution_count": 34,
   "id": "d6d2bbc0",
   "metadata": {},
   "outputs": [
    {
     "data": {
      "text/html": [
       "<div>\n",
       "<style scoped>\n",
       "    .dataframe tbody tr th:only-of-type {\n",
       "        vertical-align: middle;\n",
       "    }\n",
       "\n",
       "    .dataframe tbody tr th {\n",
       "        vertical-align: top;\n",
       "    }\n",
       "\n",
       "    .dataframe thead th {\n",
       "        text-align: right;\n",
       "    }\n",
       "</style>\n",
       "<table border=\"1\" class=\"dataframe\">\n",
       "  <thead>\n",
       "    <tr style=\"text-align: right;\">\n",
       "      <th></th>\n",
       "      <th>temperature</th>\n",
       "      <th>exhaust_vacuum</th>\n",
       "      <th>amb_pressure</th>\n",
       "      <th>r_humidity</th>\n",
       "      <th>energy_production</th>\n",
       "    </tr>\n",
       "  </thead>\n",
       "  <tbody>\n",
       "    <tr>\n",
       "      <th>temperature</th>\n",
       "      <td>1.000000</td>\n",
       "      <td>0.844107</td>\n",
       "      <td>-0.507549</td>\n",
       "      <td>-0.542535</td>\n",
       "      <td>-0.948128</td>\n",
       "    </tr>\n",
       "    <tr>\n",
       "      <th>exhaust_vacuum</th>\n",
       "      <td>0.844107</td>\n",
       "      <td>1.000000</td>\n",
       "      <td>-0.413502</td>\n",
       "      <td>-0.312187</td>\n",
       "      <td>-0.869780</td>\n",
       "    </tr>\n",
       "    <tr>\n",
       "      <th>amb_pressure</th>\n",
       "      <td>-0.507549</td>\n",
       "      <td>-0.413502</td>\n",
       "      <td>1.000000</td>\n",
       "      <td>0.099574</td>\n",
       "      <td>0.518429</td>\n",
       "    </tr>\n",
       "    <tr>\n",
       "      <th>r_humidity</th>\n",
       "      <td>-0.542535</td>\n",
       "      <td>-0.312187</td>\n",
       "      <td>0.099574</td>\n",
       "      <td>1.000000</td>\n",
       "      <td>0.389794</td>\n",
       "    </tr>\n",
       "    <tr>\n",
       "      <th>energy_production</th>\n",
       "      <td>-0.948128</td>\n",
       "      <td>-0.869780</td>\n",
       "      <td>0.518429</td>\n",
       "      <td>0.389794</td>\n",
       "      <td>1.000000</td>\n",
       "    </tr>\n",
       "  </tbody>\n",
       "</table>\n",
       "</div>"
      ],
      "text/plain": [
       "                   temperature  exhaust_vacuum  amb_pressure  r_humidity  \\\n",
       "temperature           1.000000        0.844107     -0.507549   -0.542535   \n",
       "exhaust_vacuum        0.844107        1.000000     -0.413502   -0.312187   \n",
       "amb_pressure         -0.507549       -0.413502      1.000000    0.099574   \n",
       "r_humidity           -0.542535       -0.312187      0.099574    1.000000   \n",
       "energy_production    -0.948128       -0.869780      0.518429    0.389794   \n",
       "\n",
       "                   energy_production  \n",
       "temperature                -0.948128  \n",
       "exhaust_vacuum             -0.869780  \n",
       "amb_pressure                0.518429  \n",
       "r_humidity                  0.389794  \n",
       "energy_production           1.000000  "
      ]
     },
     "execution_count": 34,
     "metadata": {},
     "output_type": "execute_result"
    }
   ],
   "source": [
    "corr_matrix = data.corr()\n",
    "corr_matrix"
   ]
  },
  {
   "cell_type": "code",
   "execution_count": 35,
   "id": "96aa627c",
   "metadata": {},
   "outputs": [
    {
     "data": {
      "image/png": "[encoded data removed]",
      "text/plain": [
       "<Figure size 720x432 with 2 Axes>"
      ]
     },
     "metadata": {
      "needs_background": "light"
     },
     "output_type": "display_data"
    }
   ],
   "source": [
    "plt.figure(figsize=(10,6))\n",
    "sns.heatmap(corr_matrix,annot=True)\n",
    "plt.show()"
   ]
  },
  {
   "cell_type": "markdown",
   "id": "7285eb4a",
   "metadata": {},
   "source": [
    "* Collinearity between temperature and exhaust vaccum"
   ]
  },
  {
   "cell_type": "markdown",
   "id": "d1197ce4",
   "metadata": {},
   "source": [
    "#### 4. No Auto Regression -  Test Passed "
   ]
  },
  {
   "cell_type": "code",
   "execution_count": 36,
   "id": "cabe3d86",
   "metadata": {},
   "outputs": [],
   "source": [
    "energy_data = data.copy()"
   ]
  },
  {
   "cell_type": "code",
   "execution_count": 37,
   "id": "e8bf2295",
   "metadata": {},
   "outputs": [
    {
     "data": {
      "text/html": [
       "<div>\n",
       "<style scoped>\n",
       "    .dataframe tbody tr th:only-of-type {\n",
       "        vertical-align: middle;\n",
       "    }\n",
       "\n",
       "    .dataframe tbody tr th {\n",
       "        vertical-align: top;\n",
       "    }\n",
       "\n",
       "    .dataframe thead th {\n",
       "        text-align: right;\n",
       "    }\n",
       "</style>\n",
       "<table border=\"1\" class=\"dataframe\">\n",
       "  <thead>\n",
       "    <tr style=\"text-align: right;\">\n",
       "      <th></th>\n",
       "      <th>temperature</th>\n",
       "      <th>exhaust_vacuum</th>\n",
       "      <th>amb_pressure</th>\n",
       "      <th>r_humidity</th>\n",
       "      <th>energy_production</th>\n",
       "    </tr>\n",
       "  </thead>\n",
       "  <tbody>\n",
       "    <tr>\n",
       "      <th>0</th>\n",
       "      <td>9.59</td>\n",
       "      <td>38.56</td>\n",
       "      <td>1017.01</td>\n",
       "      <td>60.10</td>\n",
       "      <td>481.30</td>\n",
       "    </tr>\n",
       "    <tr>\n",
       "      <th>1</th>\n",
       "      <td>12.04</td>\n",
       "      <td>42.34</td>\n",
       "      <td>1019.72</td>\n",
       "      <td>94.67</td>\n",
       "      <td>465.36</td>\n",
       "    </tr>\n",
       "    <tr>\n",
       "      <th>2</th>\n",
       "      <td>13.87</td>\n",
       "      <td>45.08</td>\n",
       "      <td>1024.42</td>\n",
       "      <td>81.69</td>\n",
       "      <td>465.48</td>\n",
       "    </tr>\n",
       "    <tr>\n",
       "      <th>3</th>\n",
       "      <td>13.72</td>\n",
       "      <td>54.30</td>\n",
       "      <td>1017.89</td>\n",
       "      <td>79.08</td>\n",
       "      <td>467.05</td>\n",
       "    </tr>\n",
       "    <tr>\n",
       "      <th>4</th>\n",
       "      <td>15.14</td>\n",
       "      <td>49.64</td>\n",
       "      <td>1023.78</td>\n",
       "      <td>75.00</td>\n",
       "      <td>463.58</td>\n",
       "    </tr>\n",
       "    <tr>\n",
       "      <th>...</th>\n",
       "      <td>...</td>\n",
       "      <td>...</td>\n",
       "      <td>...</td>\n",
       "      <td>...</td>\n",
       "      <td>...</td>\n",
       "    </tr>\n",
       "    <tr>\n",
       "      <th>9563</th>\n",
       "      <td>17.10</td>\n",
       "      <td>49.69</td>\n",
       "      <td>1005.53</td>\n",
       "      <td>81.82</td>\n",
       "      <td>457.32</td>\n",
       "    </tr>\n",
       "    <tr>\n",
       "      <th>9564</th>\n",
       "      <td>24.73</td>\n",
       "      <td>65.34</td>\n",
       "      <td>1015.42</td>\n",
       "      <td>52.80</td>\n",
       "      <td>446.92</td>\n",
       "    </tr>\n",
       "    <tr>\n",
       "      <th>9565</th>\n",
       "      <td>30.44</td>\n",
       "      <td>56.24</td>\n",
       "      <td>1005.19</td>\n",
       "      <td>56.24</td>\n",
       "      <td>429.34</td>\n",
       "    </tr>\n",
       "    <tr>\n",
       "      <th>9566</th>\n",
       "      <td>23.00</td>\n",
       "      <td>66.05</td>\n",
       "      <td>1020.61</td>\n",
       "      <td>80.29</td>\n",
       "      <td>421.57</td>\n",
       "    </tr>\n",
       "    <tr>\n",
       "      <th>9567</th>\n",
       "      <td>17.75</td>\n",
       "      <td>49.25</td>\n",
       "      <td>1020.86</td>\n",
       "      <td>63.67</td>\n",
       "      <td>454.41</td>\n",
       "    </tr>\n",
       "  </tbody>\n",
       "</table>\n",
       "<p>9568 rows × 5 columns</p>\n",
       "</div>"
      ],
      "text/plain": [
       "      temperature  exhaust_vacuum  amb_pressure  r_humidity  energy_production\n",
       "0            9.59           38.56       1017.01       60.10             481.30\n",
       "1           12.04           42.34       1019.72       94.67             465.36\n",
       "2           13.87           45.08       1024.42       81.69             465.48\n",
       "3           13.72           54.30       1017.89       79.08             467.05\n",
       "4           15.14           49.64       1023.78       75.00             463.58\n",
       "...           ...             ...           ...         ...                ...\n",
       "9563        17.10           49.69       1005.53       81.82             457.32\n",
       "9564        24.73           65.34       1015.42       52.80             446.92\n",
       "9565        30.44           56.24       1005.19       56.24             429.34\n",
       "9566        23.00           66.05       1020.61       80.29             421.57\n",
       "9567        17.75           49.25       1020.86       63.67             454.41\n",
       "\n",
       "[9568 rows x 5 columns]"
      ]
     },
     "execution_count": 37,
     "metadata": {},
     "output_type": "execute_result"
    }
   ],
   "source": [
    "energy_data"
   ]
  },
  {
   "cell_type": "markdown",
   "id": "e5fa4b52",
   "metadata": {},
   "source": [
    "#### Dividing the data into train and test data and also as X(dependent variable) and Y ( Target Variable)"
   ]
  },
  {
   "cell_type": "code",
   "execution_count": 38,
   "id": "8075a65a",
   "metadata": {},
   "outputs": [
    {
     "data": {
      "text/html": [
       "<div>\n",
       "<style scoped>\n",
       "    .dataframe tbody tr th:only-of-type {\n",
       "        vertical-align: middle;\n",
       "    }\n",
       "\n",
       "    .dataframe tbody tr th {\n",
       "        vertical-align: top;\n",
       "    }\n",
       "\n",
       "    .dataframe thead th {\n",
       "        text-align: right;\n",
       "    }\n",
       "</style>\n",
       "<table border=\"1\" class=\"dataframe\">\n",
       "  <thead>\n",
       "    <tr style=\"text-align: right;\">\n",
       "      <th></th>\n",
       "      <th>temperature</th>\n",
       "      <th>exhaust_vacuum</th>\n",
       "      <th>amb_pressure</th>\n",
       "      <th>r_humidity</th>\n",
       "    </tr>\n",
       "  </thead>\n",
       "  <tbody>\n",
       "    <tr>\n",
       "      <th>0</th>\n",
       "      <td>9.59</td>\n",
       "      <td>38.56</td>\n",
       "      <td>1017.01</td>\n",
       "      <td>60.10</td>\n",
       "    </tr>\n",
       "    <tr>\n",
       "      <th>1</th>\n",
       "      <td>12.04</td>\n",
       "      <td>42.34</td>\n",
       "      <td>1019.72</td>\n",
       "      <td>94.67</td>\n",
       "    </tr>\n",
       "    <tr>\n",
       "      <th>2</th>\n",
       "      <td>13.87</td>\n",
       "      <td>45.08</td>\n",
       "      <td>1024.42</td>\n",
       "      <td>81.69</td>\n",
       "    </tr>\n",
       "    <tr>\n",
       "      <th>3</th>\n",
       "      <td>13.72</td>\n",
       "      <td>54.30</td>\n",
       "      <td>1017.89</td>\n",
       "      <td>79.08</td>\n",
       "    </tr>\n",
       "    <tr>\n",
       "      <th>4</th>\n",
       "      <td>15.14</td>\n",
       "      <td>49.64</td>\n",
       "      <td>1023.78</td>\n",
       "      <td>75.00</td>\n",
       "    </tr>\n",
       "    <tr>\n",
       "      <th>...</th>\n",
       "      <td>...</td>\n",
       "      <td>...</td>\n",
       "      <td>...</td>\n",
       "      <td>...</td>\n",
       "    </tr>\n",
       "    <tr>\n",
       "      <th>9563</th>\n",
       "      <td>17.10</td>\n",
       "      <td>49.69</td>\n",
       "      <td>1005.53</td>\n",
       "      <td>81.82</td>\n",
       "    </tr>\n",
       "    <tr>\n",
       "      <th>9564</th>\n",
       "      <td>24.73</td>\n",
       "      <td>65.34</td>\n",
       "      <td>1015.42</td>\n",
       "      <td>52.80</td>\n",
       "    </tr>\n",
       "    <tr>\n",
       "      <th>9565</th>\n",
       "      <td>30.44</td>\n",
       "      <td>56.24</td>\n",
       "      <td>1005.19</td>\n",
       "      <td>56.24</td>\n",
       "    </tr>\n",
       "    <tr>\n",
       "      <th>9566</th>\n",
       "      <td>23.00</td>\n",
       "      <td>66.05</td>\n",
       "      <td>1020.61</td>\n",
       "      <td>80.29</td>\n",
       "    </tr>\n",
       "    <tr>\n",
       "      <th>9567</th>\n",
       "      <td>17.75</td>\n",
       "      <td>49.25</td>\n",
       "      <td>1020.86</td>\n",
       "      <td>63.67</td>\n",
       "    </tr>\n",
       "  </tbody>\n",
       "</table>\n",
       "<p>9568 rows × 4 columns</p>\n",
       "</div>"
      ],
      "text/plain": [
       "      temperature  exhaust_vacuum  amb_pressure  r_humidity\n",
       "0            9.59           38.56       1017.01       60.10\n",
       "1           12.04           42.34       1019.72       94.67\n",
       "2           13.87           45.08       1024.42       81.69\n",
       "3           13.72           54.30       1017.89       79.08\n",
       "4           15.14           49.64       1023.78       75.00\n",
       "...           ...             ...           ...         ...\n",
       "9563        17.10           49.69       1005.53       81.82\n",
       "9564        24.73           65.34       1015.42       52.80\n",
       "9565        30.44           56.24       1005.19       56.24\n",
       "9566        23.00           66.05       1020.61       80.29\n",
       "9567        17.75           49.25       1020.86       63.67\n",
       "\n",
       "[9568 rows x 4 columns]"
      ]
     },
     "execution_count": 38,
     "metadata": {},
     "output_type": "execute_result"
    }
   ],
   "source": [
    "X = energy_data.iloc[:,:-1]\n",
    "X"
   ]
  },
  {
   "cell_type": "code",
   "execution_count": 39,
   "id": "ade6de96",
   "metadata": {},
   "outputs": [
    {
     "data": {
      "text/plain": [
       "0       481.30\n",
       "1       465.36\n",
       "2       465.48\n",
       "3       467.05\n",
       "4       463.58\n",
       "         ...  \n",
       "9563    457.32\n",
       "9564    446.92\n",
       "9565    429.34\n",
       "9566    421.57\n",
       "9567    454.41\n",
       "Name: energy_production, Length: 9568, dtype: float64"
      ]
     },
     "execution_count": 39,
     "metadata": {},
     "output_type": "execute_result"
    }
   ],
   "source": [
    "Y = energy_data.loc[:,'energy_production']\n",
    "Y"
   ]
  },
  {
   "cell_type": "markdown",
   "id": "ec7badc7",
   "metadata": {},
   "source": [
    "#### Dividing the training data as 70% and testing data as 30%"
   ]
  },
  {
   "cell_type": "code",
   "execution_count": 40,
   "id": "6a71f621",
   "metadata": {},
   "outputs": [],
   "source": [
    "x_train,x_test,y_train,y_test = train_test_split(X,Y,test_size=0.7,random_state=21)"
   ]
  },
  {
   "cell_type": "code",
   "execution_count": 41,
   "id": "c5aaf78e",
   "metadata": {},
   "outputs": [
    {
     "data": {
      "text/plain": [
       "((2870, 4), (2870,))"
      ]
     },
     "execution_count": 41,
     "metadata": {},
     "output_type": "execute_result"
    }
   ],
   "source": [
    "x_train.shape,y_train.shape"
   ]
  },
  {
   "cell_type": "code",
   "execution_count": 42,
   "id": "28f30310",
   "metadata": {},
   "outputs": [
    {
     "data": {
      "text/plain": [
       "((6698, 4), (6698,))"
      ]
     },
     "execution_count": 42,
     "metadata": {},
     "output_type": "execute_result"
    }
   ],
   "source": [
    "x_test.shape,y_test.shape"
   ]
  },
  {
   "cell_type": "markdown",
   "id": "8d43bbc8",
   "metadata": {},
   "source": [
    "#### Using Standard Scaler for converting the variables to similar dimensions"
   ]
  },
  {
   "cell_type": "code",
   "execution_count": 43,
   "id": "207d68ff",
   "metadata": {},
   "outputs": [
    {
     "data": {
      "text/plain": [
       "temperature         19.749801\n",
       "exhaust_vacuum      54.222038\n",
       "amb_pressure      1013.194181\n",
       "r_humidity          72.937997\n",
       "dtype: float64"
      ]
     },
     "execution_count": 43,
     "metadata": {},
     "output_type": "execute_result"
    }
   ],
   "source": [
    "x_train.mean()"
   ]
  },
  {
   "cell_type": "code",
   "execution_count": 44,
   "id": "b81f8c41",
   "metadata": {},
   "outputs": [
    {
     "data": {
      "text/plain": [
       "temperature        7.359693\n",
       "exhaust_vacuum    12.634496\n",
       "amb_pressure       5.945344\n",
       "r_humidity        14.667047\n",
       "dtype: float64"
      ]
     },
     "execution_count": 44,
     "metadata": {},
     "output_type": "execute_result"
    }
   ],
   "source": [
    "x_train.std()"
   ]
  },
  {
   "cell_type": "code",
   "execution_count": 45,
   "id": "edb6f389",
   "metadata": {},
   "outputs": [
    {
     "data": {
      "text/plain": [
       "Index(['temperature', 'exhaust_vacuum', 'amb_pressure', 'r_humidity'], dtype='object')"
      ]
     },
     "execution_count": 45,
     "metadata": {},
     "output_type": "execute_result"
    }
   ],
   "source": [
    "x_train.columns"
   ]
  },
  {
   "cell_type": "code",
   "execution_count": 46,
   "id": "d1cdbfa2",
   "metadata": {},
   "outputs": [
    {
     "data": {
      "text/plain": [
       "array([[-2.22192006, -1.15434599, -0.35230025,  0.71546997],\n",
       "       [ 0.63467486,  0.71942289, -0.09322888, -0.07760218],\n",
       "       [ 1.03693561,  1.57833257, -0.52389297,  0.38678487],\n",
       "       ...,\n",
       "       [-0.64141583, -0.8321559 ,  1.99784716,  0.70319543],\n",
       "       [ 0.50828888, -0.53608934, -0.7964226 , -0.46084083],\n",
       "       [ 1.70012226,  1.54033473,  0.26173254, -0.82089422]])"
      ]
     },
     "execution_count": 46,
     "metadata": {},
     "output_type": "execute_result"
    }
   ],
   "source": [
    "std_scaler = StandardScaler()\n",
    "x_scaled = std_scaler.fit_transform(x_train)\n",
    "x_scaled"
   ]
  },
  {
   "cell_type": "code",
   "execution_count": 47,
   "id": "58535546",
   "metadata": {},
   "outputs": [
    {
     "data": {
      "text/html": [
       "<div>\n",
       "<style scoped>\n",
       "    .dataframe tbody tr th:only-of-type {\n",
       "        vertical-align: middle;\n",
       "    }\n",
       "\n",
       "    .dataframe tbody tr th {\n",
       "        vertical-align: top;\n",
       "    }\n",
       "\n",
       "    .dataframe thead th {\n",
       "        text-align: right;\n",
       "    }\n",
       "</style>\n",
       "<table border=\"1\" class=\"dataframe\">\n",
       "  <thead>\n",
       "    <tr style=\"text-align: right;\">\n",
       "      <th></th>\n",
       "      <th>Temperature</th>\n",
       "      <th>Exhaust_vacuum</th>\n",
       "      <th>Ambient_pressure</th>\n",
       "      <th>Relative_humidity</th>\n",
       "    </tr>\n",
       "  </thead>\n",
       "  <tbody>\n",
       "    <tr>\n",
       "      <th>0</th>\n",
       "      <td>-2.221920</td>\n",
       "      <td>-1.154346</td>\n",
       "      <td>-0.352300</td>\n",
       "      <td>0.715470</td>\n",
       "    </tr>\n",
       "    <tr>\n",
       "      <th>1</th>\n",
       "      <td>0.634675</td>\n",
       "      <td>0.719423</td>\n",
       "      <td>-0.093229</td>\n",
       "      <td>-0.077602</td>\n",
       "    </tr>\n",
       "    <tr>\n",
       "      <th>2</th>\n",
       "      <td>1.036936</td>\n",
       "      <td>1.578333</td>\n",
       "      <td>-0.523893</td>\n",
       "      <td>0.386785</td>\n",
       "    </tr>\n",
       "    <tr>\n",
       "      <th>3</th>\n",
       "      <td>-1.504374</td>\n",
       "      <td>-0.981772</td>\n",
       "      <td>3.303298</td>\n",
       "      <td>0.046507</td>\n",
       "    </tr>\n",
       "    <tr>\n",
       "      <th>4</th>\n",
       "      <td>0.553136</td>\n",
       "      <td>0.785919</td>\n",
       "      <td>1.306429</td>\n",
       "      <td>-0.874766</td>\n",
       "    </tr>\n",
       "    <tr>\n",
       "      <th>...</th>\n",
       "      <td>...</td>\n",
       "      <td>...</td>\n",
       "      <td>...</td>\n",
       "      <td>...</td>\n",
       "    </tr>\n",
       "    <tr>\n",
       "      <th>2865</th>\n",
       "      <td>0.137285</td>\n",
       "      <td>1.306015</td>\n",
       "      <td>-0.582773</td>\n",
       "      <td>1.098027</td>\n",
       "    </tr>\n",
       "    <tr>\n",
       "      <th>2866</th>\n",
       "      <td>0.487904</td>\n",
       "      <td>-0.681748</td>\n",
       "      <td>-0.078088</td>\n",
       "      <td>0.078557</td>\n",
       "    </tr>\n",
       "    <tr>\n",
       "      <th>2867</th>\n",
       "      <td>-0.641416</td>\n",
       "      <td>-0.832156</td>\n",
       "      <td>1.997847</td>\n",
       "      <td>0.703195</td>\n",
       "    </tr>\n",
       "    <tr>\n",
       "      <th>2868</th>\n",
       "      <td>0.508289</td>\n",
       "      <td>-0.536089</td>\n",
       "      <td>-0.796423</td>\n",
       "      <td>-0.460841</td>\n",
       "    </tr>\n",
       "    <tr>\n",
       "      <th>2869</th>\n",
       "      <td>1.700122</td>\n",
       "      <td>1.540335</td>\n",
       "      <td>0.261733</td>\n",
       "      <td>-0.820894</td>\n",
       "    </tr>\n",
       "  </tbody>\n",
       "</table>\n",
       "<p>2870 rows × 4 columns</p>\n",
       "</div>"
      ],
      "text/plain": [
       "      Temperature  Exhaust_vacuum  Ambient_pressure  Relative_humidity\n",
       "0       -2.221920       -1.154346         -0.352300           0.715470\n",
       "1        0.634675        0.719423         -0.093229          -0.077602\n",
       "2        1.036936        1.578333         -0.523893           0.386785\n",
       "3       -1.504374       -0.981772          3.303298           0.046507\n",
       "4        0.553136        0.785919          1.306429          -0.874766\n",
       "...           ...             ...               ...                ...\n",
       "2865     0.137285        1.306015         -0.582773           1.098027\n",
       "2866     0.487904       -0.681748         -0.078088           0.078557\n",
       "2867    -0.641416       -0.832156          1.997847           0.703195\n",
       "2868     0.508289       -0.536089         -0.796423          -0.460841\n",
       "2869     1.700122        1.540335          0.261733          -0.820894\n",
       "\n",
       "[2870 rows x 4 columns]"
      ]
     },
     "execution_count": 47,
     "metadata": {},
     "output_type": "execute_result"
    }
   ],
   "source": [
    "x_scaled_df = pd.DataFrame(data=x_scaled,columns=['Temperature','Exhaust_vacuum','Ambient_pressure','Relative_humidity'])\n",
    "x_scaled_df"
   ]
  },
  {
   "cell_type": "code",
   "execution_count": 48,
   "id": "579a48ca",
   "metadata": {},
   "outputs": [
    {
     "data": {
      "text/plain": [
       "Temperature         -3.249433e-18\n",
       "Exhaust_vacuum      -2.294719e-16\n",
       "Ambient_pressure     1.867865e-14\n",
       "Relative_humidity   -7.028834e-17\n",
       "dtype: float64"
      ]
     },
     "execution_count": 48,
     "metadata": {},
     "output_type": "execute_result"
    }
   ],
   "source": [
    "x_scaled_df.mean()"
   ]
  },
  {
   "cell_type": "code",
   "execution_count": 49,
   "id": "09c0c23b",
   "metadata": {},
   "outputs": [
    {
     "data": {
      "text/plain": [
       "Temperature          1.000174\n",
       "Exhaust_vacuum       1.000174\n",
       "Ambient_pressure     1.000174\n",
       "Relative_humidity    1.000174\n",
       "dtype: float64"
      ]
     },
     "execution_count": 49,
     "metadata": {},
     "output_type": "execute_result"
    }
   ],
   "source": [
    "x_scaled_df.std()"
   ]
  },
  {
   "cell_type": "markdown",
   "id": "429ab9c2",
   "metadata": {},
   "source": [
    "### Model Training"
   ]
  },
  {
   "cell_type": "code",
   "execution_count": 50,
   "id": "f59d067f",
   "metadata": {},
   "outputs": [
    {
     "data": {
      "text/plain": [
       "LinearRegression()"
      ]
     },
     "execution_count": 50,
     "metadata": {},
     "output_type": "execute_result"
    }
   ],
   "source": [
    "from sklearn.linear_model import LinearRegression\n",
    "linear_model = LinearRegression()\n",
    "linear_model.fit(x_scaled_df,y_train)"
   ]
  },
  {
   "cell_type": "code",
   "execution_count": 51,
   "id": "b76260c3",
   "metadata": {},
   "outputs": [
    {
     "data": {
      "text/plain": [
       "454.205456445993"
      ]
     },
     "execution_count": 51,
     "metadata": {},
     "output_type": "execute_result"
    }
   ],
   "source": [
    "linear_model.intercept_"
   ]
  },
  {
   "cell_type": "code",
   "execution_count": 52,
   "id": "5157e0e3",
   "metadata": {},
   "outputs": [
    {
     "data": {
      "text/plain": [
       "array([-14.06353996,  -3.1017063 ,   0.50778918,  -2.24951831])"
      ]
     },
     "execution_count": 52,
     "metadata": {},
     "output_type": "execute_result"
    }
   ],
   "source": [
    "linear_model.coef_"
   ]
  },
  {
   "cell_type": "markdown",
   "id": "76d464a5",
   "metadata": {},
   "source": [
    "### Model Testing "
   ]
  },
  {
   "cell_type": "code",
   "execution_count": 53,
   "id": "d87dc89d",
   "metadata": {},
   "outputs": [
    {
     "data": {
      "text/plain": [
       "array([487.24560315, 443.17546955, 433.59084009, ..., 465.23977097,\n",
       "       449.35216219, 427.49757479])"
      ]
     },
     "execution_count": 53,
     "metadata": {},
     "output_type": "execute_result"
    }
   ],
   "source": [
    "y_energy_pred = linear_model.predict(x_scaled_df)\n",
    "y_energy_pred"
   ]
  },
  {
   "cell_type": "code",
   "execution_count": 54,
   "id": "e10d3fc2",
   "metadata": {},
   "outputs": [
    {
     "data": {
      "text/plain": [
       "3668   -27.385603\n",
       "2955    -4.785470\n",
       "4258     3.059160\n",
       "6993    -1.370208\n",
       "3663     0.750085\n",
       "          ...    \n",
       "9336     3.392086\n",
       "48       6.577989\n",
       "8964    -2.119771\n",
       "5944    -2.632162\n",
       "5327    -1.017575\n",
       "Name: energy_production, Length: 2870, dtype: float64"
      ]
     },
     "execution_count": 54,
     "metadata": {},
     "output_type": "execute_result"
    }
   ],
   "source": [
    "error = y_train - y_energy_pred\n",
    "error"
   ]
  },
  {
   "cell_type": "markdown",
   "id": "b91536df",
   "metadata": {},
   "source": [
    "#### Homoscadestacity Check"
   ]
  },
  {
   "cell_type": "code",
   "execution_count": 55,
   "id": "fed3a533",
   "metadata": {},
   "outputs": [
    {
     "data": {
      "image/png": "[encoded data removed]",
      "text/plain": [
       "<Figure size 432x288 with 1 Axes>"
      ]
     },
     "metadata": {
      "needs_background": "light"
     },
     "output_type": "display_data"
    }
   ],
   "source": [
    "plt.scatter(x = x_scaled_df['Temperature'],y = error)\n",
    "plt.title('Homoscedasticity Check - Scaled Temperature Vs Error')\n",
    "plt.xlabel('Scaled_Temperature')\n",
    "plt.ylabel('Error')\n",
    "plt.show()"
   ]
  },
  {
   "cell_type": "code",
   "execution_count": 56,
   "id": "95162762",
   "metadata": {},
   "outputs": [
    {
     "data": {
      "image/png": "[encoded data removed]",
      "text/plain": [
       "<Figure size 432x288 with 1 Axes>"
      ]
     },
     "metadata": {
      "needs_background": "light"
     },
     "output_type": "display_data"
    }
   ],
   "source": [
    "plt.scatter(x = x_scaled_df['Exhaust_vacuum'],y = error)\n",
    "plt.title('Homoscedasticity Check - Scaled Exhaust_vacuum Vs Error')\n",
    "plt.xlabel('Scaled_Exhaust_vacuum')\n",
    "plt.ylabel('Error')\n",
    "plt.show()"
   ]
  },
  {
   "cell_type": "code",
   "execution_count": 57,
   "id": "58c73f22",
   "metadata": {},
   "outputs": [
    {
     "data": {
      "image/png": "[encoded data removed]",
      "text/plain": [
       "<Figure size 432x288 with 1 Axes>"
      ]
     },
     "metadata": {
      "needs_background": "light"
     },
     "output_type": "display_data"
    }
   ],
   "source": [
    "plt.scatter(x = x_scaled_df['Ambient_pressure'],y = error)\n",
    "plt.title('Homoscedasticity Check - Scaled Ambient_pressure Vs Error')\n",
    "plt.xlabel('Scaled_Ambient_pressure')\n",
    "plt.ylabel('Error')\n",
    "plt.show()"
   ]
  },
  {
   "cell_type": "code",
   "execution_count": 58,
   "id": "888a560b",
   "metadata": {},
   "outputs": [
    {
     "data": {
      "image/png": "[encoded data removed]",
      "text/plain": [
       "<Figure size 432x288 with 1 Axes>"
      ]
     },
     "metadata": {
      "needs_background": "light"
     },
     "output_type": "display_data"
    }
   ],
   "source": [
    "plt.scatter(x = x_scaled_df['Relative_humidity'],y = error)\n",
    "plt.title('Homoscedasticity Check - Scaled Relative_humidity Vs Error')\n",
    "plt.xlabel('Scaled_Relative_humidity')\n",
    "plt.ylabel('Error')\n",
    "plt.show()"
   ]
  },
  {
   "cell_type": "markdown",
   "id": "3e4df63d",
   "metadata": {},
   "source": [
    "#### Observation : None of the input variables follows Homoscedasticity , so this test failed"
   ]
  },
  {
   "cell_type": "code",
   "execution_count": 59,
   "id": "2ff19eb2",
   "metadata": {},
   "outputs": [
    {
     "data": {
      "text/plain": [
       "22.853600663445487"
      ]
     },
     "execution_count": 59,
     "metadata": {},
     "output_type": "execute_result"
    }
   ],
   "source": [
    "mean_squared_error(y_train,y_energy_pred)"
   ]
  },
  {
   "cell_type": "code",
   "execution_count": 60,
   "id": "937c6d5b",
   "metadata": {},
   "outputs": [
    {
     "data": {
      "text/plain": [
       "3.719921890160913"
      ]
     },
     "execution_count": 60,
     "metadata": {},
     "output_type": "execute_result"
    }
   ],
   "source": [
    "mean_absolute_error(y_train,y_energy_pred)"
   ]
  },
  {
   "cell_type": "markdown",
   "id": "4be8ae36",
   "metadata": {},
   "source": [
    "### Model Building Using Stats Models"
   ]
  },
  {
   "cell_type": "code",
   "execution_count": 61,
   "id": "ae0089d7",
   "metadata": {},
   "outputs": [],
   "source": [
    "import statsmodels.formula.api as smf\n",
    "lin_stats_model = smf.ols('energy_production~temperature+exhaust_vacuum+amb_pressure+r_humidity',data=energy_data).fit()"
   ]
  },
  {
   "cell_type": "code",
   "execution_count": 62,
   "id": "a497c3a0",
   "metadata": {},
   "outputs": [
    {
     "data": {
      "text/plain": [
       "Intercept         454.609274\n",
       "temperature        -1.977513\n",
       "exhaust_vacuum     -0.233916\n",
       "amb_pressure        0.062083\n",
       "r_humidity         -0.158054\n",
       "dtype: float64"
      ]
     },
     "execution_count": 62,
     "metadata": {},
     "output_type": "execute_result"
    }
   ],
   "source": [
    "lin_stats_model.params"
   ]
  },
  {
   "cell_type": "code",
   "execution_count": 63,
   "id": "d3ca038a",
   "metadata": {},
   "outputs": [
    {
     "data": {
      "text/plain": [
       "Intercept          0.000000e+00\n",
       "temperature        0.000000e+00\n",
       "exhaust_vacuum    4.375305e-215\n",
       "amb_pressure       5.507109e-11\n",
       "r_humidity        3.104584e-293\n",
       "dtype: float64"
      ]
     },
     "execution_count": 63,
     "metadata": {},
     "output_type": "execute_result"
    }
   ],
   "source": [
    "lin_stats_model.pvalues"
   ]
  },
  {
   "cell_type": "code",
   "execution_count": 64,
   "id": "36c73e14",
   "metadata": {},
   "outputs": [
    {
     "data": {
      "text/html": [
       "<table class=\"simpletable\">\n",
       "<caption>OLS Regression Results</caption>\n",
       "<tr>\n",
       "  <th>Dep. Variable:</th>    <td>energy_production</td> <th>  R-squared:         </th> <td>   0.929</td> \n",
       "</tr>\n",
       "<tr>\n",
       "  <th>Model:</th>                   <td>OLS</td>        <th>  Adj. R-squared:    </th> <td>   0.929</td> \n",
       "</tr>\n",
       "<tr>\n",
       "  <th>Method:</th>             <td>Least Squares</td>   <th>  F-statistic:       </th> <td>3.114e+04</td>\n",
       "</tr>\n",
       "<tr>\n",
       "  <th>Date:</th>             <td>Fri, 18 Feb 2022</td>  <th>  Prob (F-statistic):</th>  <td>  0.00</td>  \n",
       "</tr>\n",
       "<tr>\n",
       "  <th>Time:</th>                 <td>19:22:20</td>      <th>  Log-Likelihood:    </th> <td> -28088.</td> \n",
       "</tr>\n",
       "<tr>\n",
       "  <th>No. Observations:</th>      <td>  9568</td>       <th>  AIC:               </th> <td>5.619e+04</td>\n",
       "</tr>\n",
       "<tr>\n",
       "  <th>Df Residuals:</th>          <td>  9563</td>       <th>  BIC:               </th> <td>5.622e+04</td>\n",
       "</tr>\n",
       "<tr>\n",
       "  <th>Df Model:</th>              <td>     4</td>       <th>                     </th>     <td> </td>    \n",
       "</tr>\n",
       "<tr>\n",
       "  <th>Covariance Type:</th>      <td>nonrobust</td>     <th>                     </th>     <td> </td>    \n",
       "</tr>\n",
       "</table>\n",
       "<table class=\"simpletable\">\n",
       "<tr>\n",
       "         <td></td>           <th>coef</th>     <th>std err</th>      <th>t</th>      <th>P>|t|</th>  <th>[0.025</th>    <th>0.975]</th>  \n",
       "</tr>\n",
       "<tr>\n",
       "  <th>Intercept</th>      <td>  454.6093</td> <td>    9.749</td> <td>   46.634</td> <td> 0.000</td> <td>  435.500</td> <td>  473.718</td>\n",
       "</tr>\n",
       "<tr>\n",
       "  <th>temperature</th>    <td>   -1.9775</td> <td>    0.015</td> <td> -129.342</td> <td> 0.000</td> <td>   -2.007</td> <td>   -1.948</td>\n",
       "</tr>\n",
       "<tr>\n",
       "  <th>exhaust_vacuum</th> <td>   -0.2339</td> <td>    0.007</td> <td>  -32.122</td> <td> 0.000</td> <td>   -0.248</td> <td>   -0.220</td>\n",
       "</tr>\n",
       "<tr>\n",
       "  <th>amb_pressure</th>   <td>    0.0621</td> <td>    0.009</td> <td>    6.564</td> <td> 0.000</td> <td>    0.044</td> <td>    0.081</td>\n",
       "</tr>\n",
       "<tr>\n",
       "  <th>r_humidity</th>     <td>   -0.1581</td> <td>    0.004</td> <td>  -37.918</td> <td> 0.000</td> <td>   -0.166</td> <td>   -0.150</td>\n",
       "</tr>\n",
       "</table>\n",
       "<table class=\"simpletable\">\n",
       "<tr>\n",
       "  <th>Omnibus:</th>       <td>892.002</td> <th>  Durbin-Watson:     </th> <td>   1.971</td>\n",
       "</tr>\n",
       "<tr>\n",
       "  <th>Prob(Omnibus):</th> <td> 0.000</td>  <th>  Jarque-Bera (JB):  </th> <td>4086.777</td>\n",
       "</tr>\n",
       "<tr>\n",
       "  <th>Skew:</th>          <td>-0.352</td>  <th>  Prob(JB):          </th> <td>    0.00</td>\n",
       "</tr>\n",
       "<tr>\n",
       "  <th>Kurtosis:</th>      <td> 6.123</td>  <th>  Cond. No.          </th> <td>2.13e+05</td>\n",
       "</tr>\n",
       "</table><br/><br/>Notes:<br/>[1] Standard Errors assume that the covariance matrix of the errors is correctly specified.<br/>[2] The condition number is large, 2.13e+05. This might indicate that there are<br/>strong multicollinearity or other numerical problems."
      ],
      "text/plain": [
       "<class 'statsmodels.iolib.summary.Summary'>\n",
       "\"\"\"\n",
       "                            OLS Regression Results                            \n",
       "==============================================================================\n",
       "Dep. Variable:      energy_production   R-squared:                       0.929\n",
       "Model:                            OLS   Adj. R-squared:                  0.929\n",
       "Method:                 Least Squares   F-statistic:                 3.114e+04\n",
       "Date:                Fri, 18 Feb 2022   Prob (F-statistic):               0.00\n",
       "Time:                        19:22:20   Log-Likelihood:                -28088.\n",
       "No. Observations:                9568   AIC:                         5.619e+04\n",
       "Df Residuals:                    9563   BIC:                         5.622e+04\n",
       "Df Model:                           4                                         \n",
       "Covariance Type:            nonrobust                                         \n",
       "==================================================================================\n",
       "                     coef    std err          t      P>|t|      [0.025      0.975]\n",
       "----------------------------------------------------------------------------------\n",
       "Intercept        454.6093      9.749     46.634      0.000     435.500     473.718\n",
       "temperature       -1.9775      0.015   -129.342      0.000      -2.007      -1.948\n",
       "exhaust_vacuum    -0.2339      0.007    -32.122      0.000      -0.248      -0.220\n",
       "amb_pressure       0.0621      0.009      6.564      0.000       0.044       0.081\n",
       "r_humidity        -0.1581      0.004    -37.918      0.000      -0.166      -0.150\n",
       "==============================================================================\n",
       "Omnibus:                      892.002   Durbin-Watson:                   1.971\n",
       "Prob(Omnibus):                  0.000   Jarque-Bera (JB):             4086.777\n",
       "Skew:                          -0.352   Prob(JB):                         0.00\n",
       "Kurtosis:                       6.123   Cond. No.                     2.13e+05\n",
       "==============================================================================\n",
       "\n",
       "Notes:\n",
       "[1] Standard Errors assume that the covariance matrix of the errors is correctly specified.\n",
       "[2] The condition number is large, 2.13e+05. This might indicate that there are\n",
       "strong multicollinearity or other numerical problems.\n",
       "\"\"\""
      ]
     },
     "execution_count": 64,
     "metadata": {},
     "output_type": "execute_result"
    }
   ],
   "source": [
    "lin_stats_model.summary()"
   ]
  },
  {
   "cell_type": "code",
   "execution_count": 65,
   "id": "3bc540fa",
   "metadata": {},
   "outputs": [
    {
     "name": "stdout",
     "output_type": "stream",
     "text": [
      "R2 score :  0.929\n",
      "Adjusted R2 score:  0.929\n"
     ]
    }
   ],
   "source": [
    "print('R2 score : ',round(lin_stats_model.rsquared,3))\n",
    "print('Adjusted R2 score: ',round(lin_stats_model.rsquared_adj,3)) "
   ]
  },
  {
   "cell_type": "markdown",
   "id": "00ecbfd7",
   "metadata": {},
   "source": [
    "### Understanding R2 and Adjusted R2"
   ]
  },
  {
   "cell_type": "code",
   "execution_count": 66,
   "id": "368587d2",
   "metadata": {},
   "outputs": [
    {
     "name": "stdout",
     "output_type": "stream",
     "text": [
      "R2 score          :  0.8989\n",
      "Adjusted R2 score :  0.8989\n",
      "AIC value         :  59516.4764\n",
      "BIC value         :  59530.8088\n"
     ]
    }
   ],
   "source": [
    "model_1 = smf.ols('energy_production~temperature',data = energy_data).fit()\n",
    "print('R2 score          : ',round(model_1.rsquared,4))\n",
    "print('Adjusted R2 score : ',round(model_1.rsquared_adj,4))\n",
    "print('AIC value         : ',round(model_1.aic,4)) \n",
    "print('BIC value         : ',round(model_1.bic,4))\n",
    "#when performing model selection, the one with the lowest AIC or BIC is preferred."
   ]
  },
  {
   "cell_type": "code",
   "execution_count": 67,
   "id": "89189ae0",
   "metadata": {},
   "outputs": [
    {
     "name": "stdout",
     "output_type": "stream",
     "text": [
      "R2 score          :  0.9157\n",
      "Adjusted R2 score :  0.9157\n",
      "AIC value         :  57780.8638\n",
      "BIC value         :  57802.3624\n"
     ]
    }
   ],
   "source": [
    "model_2 = smf.ols('energy_production~temperature+exhaust_vacuum',data = energy_data).fit()\n",
    "print('R2 score          : ',round(model_2.rsquared,4))\n",
    "print('Adjusted R2 score : ',round(model_2.rsquared_adj,4))\n",
    "print('AIC value         : ',round(model_2.aic,4)) \n",
    "print('BIC value         : ',round(model_2.bic,4))"
   ]
  },
  {
   "cell_type": "code",
   "execution_count": 68,
   "id": "eac044b5",
   "metadata": {},
   "outputs": [
    {
     "name": "stdout",
     "output_type": "stream",
     "text": [
      "R2 score          :  0.918\n",
      "Adjusted R2 score :  0.9179\n",
      "AIC value         :  57524.3947\n",
      "BIC value         :  57553.0594\n"
     ]
    }
   ],
   "source": [
    "model_3 = smf.ols('energy_production~temperature+exhaust_vacuum+amb_pressure',data = energy_data).fit()\n",
    "print('R2 score          : ',round(model_3.rsquared,4))\n",
    "print('Adjusted R2 score : ',round(model_3.rsquared_adj,4))\n",
    "print('AIC value         : ',round(model_3.aic,4)) \n",
    "print('BIC value         : ',round(model_3.bic,4))"
   ]
  },
  {
   "cell_type": "code",
   "execution_count": 69,
   "id": "8309408f",
   "metadata": {},
   "outputs": [
    {
     "name": "stdout",
     "output_type": "stream",
     "text": [
      "R2 score          :  0.9287\n",
      "Adjusted R2 score :  0.9287\n",
      "AIC value         :  56186.229\n",
      "BIC value         :  56222.0599\n"
     ]
    }
   ],
   "source": [
    "model_4 = smf.ols('energy_production~temperature+exhaust_vacuum+amb_pressure+r_humidity',data = energy_data).fit()\n",
    "print('R2 score          : ',round(model_4.rsquared,4))\n",
    "print('Adjusted R2 score : ',round(model_4.rsquared_adj,4))\n",
    "print('AIC value         : ',round(model_4.aic,4)) \n",
    "print('BIC value         : ',round(model_4.bic,4))"
   ]
  },
  {
   "cell_type": "markdown",
   "id": "c5e8cb6d",
   "metadata": {},
   "source": [
    "### Model - Decision Tree "
   ]
  },
  {
   "cell_type": "code",
   "execution_count": 84,
   "id": "55caa37f",
   "metadata": {},
   "outputs": [
    {
     "data": {
      "text/plain": [
       "DecisionTreeRegressor()"
      ]
     },
     "execution_count": 84,
     "metadata": {},
     "output_type": "execute_result"
    }
   ],
   "source": [
    "from sklearn.tree import DecisionTreeRegressor\n",
    "dt_model = DecisionTreeRegressor()\n",
    "dt_model.fit(x_train,y_train)"
   ]
  },
  {
   "cell_type": "code",
   "execution_count": 85,
   "id": "1da17a84",
   "metadata": {},
   "outputs": [],
   "source": [
    "y_pred_dt_train = dt_model.predict(x_train)"
   ]
  },
  {
   "cell_type": "code",
   "execution_count": 86,
   "id": "ac421a23",
   "metadata": {},
   "outputs": [],
   "source": [
    "y_pred_dt_test = dt_model.predict(x_test)"
   ]
  },
  {
   "cell_type": "markdown",
   "id": "aba73801",
   "metadata": {},
   "source": [
    "#### Mean Squared Error"
   ]
  },
  {
   "cell_type": "code",
   "execution_count": 87,
   "id": "17e0ec8a",
   "metadata": {},
   "outputs": [
    {
     "data": {
      "text/plain": [
       "0.0"
      ]
     },
     "execution_count": 87,
     "metadata": {},
     "output_type": "execute_result"
    }
   ],
   "source": [
    "mean_squared_error(y_train,y_pred_dt_train)"
   ]
  },
  {
   "cell_type": "markdown",
   "id": "686047e2",
   "metadata": {},
   "source": [
    "#### Mean Absolute Error"
   ]
  },
  {
   "cell_type": "code",
   "execution_count": 88,
   "id": "ff592aeb",
   "metadata": {},
   "outputs": [
    {
     "data": {
      "text/plain": [
       "0.0"
      ]
     },
     "execution_count": 88,
     "metadata": {},
     "output_type": "execute_result"
    }
   ],
   "source": [
    "mean_absolute_error(y_train,y_pred_dt_train)"
   ]
  },
  {
   "cell_type": "markdown",
   "id": "74f14f7f",
   "metadata": {},
   "source": [
    "##### Training Accuracy"
   ]
  },
  {
   "cell_type": "code",
   "execution_count": 90,
   "id": "0ae9d705",
   "metadata": {},
   "outputs": [
    {
     "data": {
      "text/plain": [
       "1.0"
      ]
     },
     "execution_count": 90,
     "metadata": {},
     "output_type": "execute_result"
    }
   ],
   "source": [
    "r2_score(y_train,y_pred_dt_train)"
   ]
  },
  {
   "cell_type": "markdown",
   "id": "cb7d29a8",
   "metadata": {},
   "source": [
    "##### Testing Accuracy"
   ]
  },
  {
   "cell_type": "code",
   "execution_count": 89,
   "id": "ca4cff67",
   "metadata": {},
   "outputs": [
    {
     "data": {
      "text/plain": [
       "0.9023612197619508"
      ]
     },
     "execution_count": 89,
     "metadata": {},
     "output_type": "execute_result"
    }
   ],
   "source": [
    "r2_score(y_test,y_pred_dt_test)"
   ]
  },
  {
   "cell_type": "markdown",
   "id": "28fe9c70",
   "metadata": {},
   "source": [
    "### Model - Random Forest"
   ]
  },
  {
   "cell_type": "code",
   "execution_count": 127,
   "id": "1e834e80",
   "metadata": {},
   "outputs": [
    {
     "data": {
      "text/plain": [
       "RandomForestRegressor(max_depth=5, random_state=21)"
      ]
     },
     "execution_count": 127,
     "metadata": {},
     "output_type": "execute_result"
    }
   ],
   "source": [
    "from sklearn.ensemble import RandomForestRegressor\n",
    "rf_model = RandomForestRegressor(n_estimators==100,random_state=21,max_depth=5)\n",
    "rf_model.fit(x_train,y_train,)"
   ]
  },
  {
   "cell_type": "code",
   "execution_count": 128,
   "id": "41cfeabc",
   "metadata": {},
   "outputs": [],
   "source": [
    "y_rf_train = rf_model.predict(x_train)"
   ]
  },
  {
   "cell_type": "code",
   "execution_count": 129,
   "id": "a3952d61",
   "metadata": {},
   "outputs": [],
   "source": [
    "y_rf_test = rf_model.predict(x_test)"
   ]
  },
  {
   "cell_type": "code",
   "execution_count": 130,
   "id": "9c64badd",
   "metadata": {},
   "outputs": [
    {
     "data": {
      "text/plain": [
       "{'bootstrap': True,\n",
       " 'ccp_alpha': 0.0,\n",
       " 'criterion': 'mse',\n",
       " 'max_depth': 5,\n",
       " 'max_features': 'auto',\n",
       " 'max_leaf_nodes': None,\n",
       " 'max_samples': None,\n",
       " 'min_impurity_decrease': 0.0,\n",
       " 'min_impurity_split': None,\n",
       " 'min_samples_leaf': 1,\n",
       " 'min_samples_split': 2,\n",
       " 'min_weight_fraction_leaf': 0.0,\n",
       " 'n_estimators': 100,\n",
       " 'n_jobs': None,\n",
       " 'oob_score': False,\n",
       " 'random_state': 21,\n",
       " 'verbose': 0,\n",
       " 'warm_start': False}"
      ]
     },
     "execution_count": 130,
     "metadata": {},
     "output_type": "execute_result"
    }
   ],
   "source": [
    "rf_model.get_params()"
   ]
  },
  {
   "cell_type": "markdown",
   "id": "24a1cb9c",
   "metadata": {},
   "source": [
    "##### Training Accuracy"
   ]
  },
  {
   "cell_type": "code",
   "execution_count": 131,
   "id": "645bad0b",
   "metadata": {},
   "outputs": [
    {
     "data": {
      "text/plain": [
       "0.9402176071577831"
      ]
     },
     "execution_count": 131,
     "metadata": {},
     "output_type": "execute_result"
    }
   ],
   "source": [
    "r2_score(y_train,y_rf_train)"
   ]
  },
  {
   "cell_type": "code",
   "execution_count": 132,
   "id": "5190aec0",
   "metadata": {},
   "outputs": [
    {
     "data": {
      "text/plain": [
       "16.68995973395092"
      ]
     },
     "execution_count": 132,
     "metadata": {},
     "output_type": "execute_result"
    }
   ],
   "source": [
    "mean_squared_error(y_train,y_rf_train)"
   ]
  },
  {
   "cell_type": "code",
   "execution_count": 133,
   "id": "af46f162",
   "metadata": {},
   "outputs": [
    {
     "data": {
      "text/plain": [
       "3.0868148958982307"
      ]
     },
     "execution_count": 133,
     "metadata": {},
     "output_type": "execute_result"
    }
   ],
   "source": [
    "mean_absolute_error(y_train,y_rf_train)"
   ]
  },
  {
   "cell_type": "markdown",
   "id": "b186bc61",
   "metadata": {},
   "source": [
    "##### Testing Accuracy"
   ]
  },
  {
   "cell_type": "code",
   "execution_count": 134,
   "id": "a785c289",
   "metadata": {},
   "outputs": [
    {
     "data": {
      "text/plain": [
       "0.9421309629205021"
      ]
     },
     "execution_count": 134,
     "metadata": {},
     "output_type": "execute_result"
    }
   ],
   "source": [
    "r2_score(y_test,y_rf_test)"
   ]
  },
  {
   "cell_type": "code",
   "execution_count": 135,
   "id": "00437244",
   "metadata": {},
   "outputs": [
    {
     "data": {
      "text/plain": [
       "17.15293578981971"
      ]
     },
     "execution_count": 135,
     "metadata": {},
     "output_type": "execute_result"
    }
   ],
   "source": [
    "mean_squared_error(y_test,y_rf_test)"
   ]
  },
  {
   "cell_type": "code",
   "execution_count": 136,
   "id": "850c5d34",
   "metadata": {},
   "outputs": [
    {
     "data": {
      "text/plain": [
       "3.2298862228194904"
      ]
     },
     "execution_count": 136,
     "metadata": {},
     "output_type": "execute_result"
    }
   ],
   "source": [
    "mean_absolute_error(y_test,y_rf_test)"
   ]
  },
  {
   "cell_type": "markdown",
   "id": "ab810267",
   "metadata": {},
   "source": [
    "#### Hyper Parameter Tuning "
   ]
  },
  {
   "cell_type": "code",
   "execution_count": 141,
   "id": "8abd3339",
   "metadata": {},
   "outputs": [
    {
     "data": {
      "text/plain": [
       "GridSearchCV(cv=5,\n",
       "             estimator=RandomForestRegressor(max_depth=5, random_state=21),\n",
       "             param_grid={'criterion': ['mse', 'mae'],\n",
       "                         'max_depth': [4, 5, 6, 7, 8, 9, 10]})"
      ]
     },
     "execution_count": 141,
     "metadata": {},
     "output_type": "execute_result"
    }
   ],
   "source": [
    "from sklearn.model_selection import GridSearchCV\n",
    "grid_cv = GridSearchCV(estimator = rf_model,\n",
    "                       param_grid={'criterion': [\"mse\", \"mae\"],\n",
    "                                   'max_depth' : [4,5,6,7,8,9,10]},\n",
    "                                    cv=5)\n",
    "grid_cv.fit(x_train,y_train)"
   ]
  },
  {
   "cell_type": "code",
   "execution_count": 142,
   "id": "4be0e778",
   "metadata": {},
   "outputs": [
    {
     "data": {
      "text/plain": [
       "{'criterion': 'mae', 'max_depth': 10}"
      ]
     },
     "execution_count": 142,
     "metadata": {},
     "output_type": "execute_result"
    }
   ],
   "source": [
    "grid_cv.best_params_"
   ]
  },
  {
   "cell_type": "code",
   "execution_count": 143,
   "id": "e66ee3d9",
   "metadata": {},
   "outputs": [
    {
     "data": {
      "text/plain": [
       "RandomForestRegressor(criterion='mae', max_depth=10, random_state=21)"
      ]
     },
     "execution_count": 143,
     "metadata": {},
     "output_type": "execute_result"
    }
   ],
   "source": [
    "rf_final_model = RandomForestRegressor(criterion='mae',max_depth=10,random_state=21)\n",
    "rf_final_model.fit(x_train,y_train)"
   ]
  },
  {
   "cell_type": "code",
   "execution_count": 145,
   "id": "85fbdd1b",
   "metadata": {},
   "outputs": [],
   "source": [
    "y_pred_train_rf_final = rf_final_model.predict(x_train)\n",
    "y_pred_test_rf_final = rf_final_model.predict(x_test)"
   ]
  },
  {
   "cell_type": "markdown",
   "id": "84b0b54b",
   "metadata": {},
   "source": [
    "##### Training Accuracy"
   ]
  },
  {
   "cell_type": "code",
   "execution_count": 146,
   "id": "0b5f52c8",
   "metadata": {},
   "outputs": [
    {
     "data": {
      "text/plain": [
       "0.9747851528291651"
      ]
     },
     "execution_count": 146,
     "metadata": {},
     "output_type": "execute_result"
    }
   ],
   "source": [
    "r2_score(y_train,y_pred_train_rf_final)"
   ]
  },
  {
   "cell_type": "code",
   "execution_count": 147,
   "id": "ad4114bd",
   "metadata": {},
   "outputs": [
    {
     "data": {
      "text/plain": [
       "7.039443621630652"
      ]
     },
     "execution_count": 147,
     "metadata": {},
     "output_type": "execute_result"
    }
   ],
   "source": [
    "mean_squared_error(y_train,y_pred_train_rf_final)"
   ]
  },
  {
   "cell_type": "code",
   "execution_count": 148,
   "id": "eace6881",
   "metadata": {},
   "outputs": [
    {
     "data": {
      "text/plain": [
       "1.843475400696858"
      ]
     },
     "execution_count": 148,
     "metadata": {},
     "output_type": "execute_result"
    }
   ],
   "source": [
    "mean_absolute_error(y_train,y_pred_train_rf_final)"
   ]
  },
  {
   "cell_type": "markdown",
   "id": "7ef9b5c0",
   "metadata": {},
   "source": [
    "##### Testing Accuracy"
   ]
  },
  {
   "cell_type": "code",
   "execution_count": 149,
   "id": "ef3d2994",
   "metadata": {},
   "outputs": [
    {
     "data": {
      "text/plain": [
       "0.9521874401677044"
      ]
     },
     "execution_count": 149,
     "metadata": {},
     "output_type": "execute_result"
    }
   ],
   "source": [
    "r2_score(y_test,y_pred_test_rf_final)"
   ]
  },
  {
   "cell_type": "code",
   "execution_count": 150,
   "id": "14f02b85",
   "metadata": {},
   "outputs": [
    {
     "data": {
      "text/plain": [
       "14.172099798785807"
      ]
     },
     "execution_count": 150,
     "metadata": {},
     "output_type": "execute_result"
    }
   ],
   "source": [
    "mean_squared_error(y_test,y_pred_test_rf_final)"
   ]
  },
  {
   "cell_type": "code",
   "execution_count": 151,
   "id": "f7d77108",
   "metadata": {},
   "outputs": [
    {
     "data": {
      "text/plain": [
       "2.8412424529710307"
      ]
     },
     "execution_count": 151,
     "metadata": {},
     "output_type": "execute_result"
    }
   ],
   "source": [
    "mean_absolute_error(y_test,y_pred_test_rf_final)"
   ]
  },
  {
   "cell_type": "markdown",
   "id": "575eee01",
   "metadata": {},
   "source": [
    "#### Important Features"
   ]
  },
  {
   "cell_type": "code",
   "execution_count": 152,
   "id": "0cdbc087",
   "metadata": {},
   "outputs": [
    {
     "data": {
      "text/plain": [
       "array([0.78399248, 0.1256015 , 0.04366235, 0.04674367])"
      ]
     },
     "execution_count": 152,
     "metadata": {},
     "output_type": "execute_result"
    }
   ],
   "source": [
    "rf_features=rf_final_model.feature_importances_\n",
    "rf_features"
   ]
  },
  {
   "cell_type": "code",
   "execution_count": 153,
   "id": "0dfcbfae",
   "metadata": {},
   "outputs": [],
   "source": [
    "feature_importance = pd.DataFrame({'Features'      :x_train.columns,\n",
    "                                    'RF_Features'   :rf_features,})"
   ]
  },
  {
   "cell_type": "code",
   "execution_count": 154,
   "id": "466a5a60",
   "metadata": {},
   "outputs": [
    {
     "data": {
      "text/html": [
       "<div>\n",
       "<style scoped>\n",
       "    .dataframe tbody tr th:only-of-type {\n",
       "        vertical-align: middle;\n",
       "    }\n",
       "\n",
       "    .dataframe tbody tr th {\n",
       "        vertical-align: top;\n",
       "    }\n",
       "\n",
       "    .dataframe thead th {\n",
       "        text-align: right;\n",
       "    }\n",
       "</style>\n",
       "<table border=\"1\" class=\"dataframe\">\n",
       "  <thead>\n",
       "    <tr style=\"text-align: right;\">\n",
       "      <th></th>\n",
       "      <th>Features</th>\n",
       "      <th>RF_Features</th>\n",
       "    </tr>\n",
       "  </thead>\n",
       "  <tbody>\n",
       "    <tr>\n",
       "      <th>0</th>\n",
       "      <td>temperature</td>\n",
       "      <td>0.783992</td>\n",
       "    </tr>\n",
       "    <tr>\n",
       "      <th>1</th>\n",
       "      <td>exhaust_vacuum</td>\n",
       "      <td>0.125602</td>\n",
       "    </tr>\n",
       "    <tr>\n",
       "      <th>2</th>\n",
       "      <td>amb_pressure</td>\n",
       "      <td>0.043662</td>\n",
       "    </tr>\n",
       "    <tr>\n",
       "      <th>3</th>\n",
       "      <td>r_humidity</td>\n",
       "      <td>0.046744</td>\n",
       "    </tr>\n",
       "  </tbody>\n",
       "</table>\n",
       "</div>"
      ],
      "text/plain": [
       "         Features  RF_Features\n",
       "0     temperature     0.783992\n",
       "1  exhaust_vacuum     0.125602\n",
       "2    amb_pressure     0.043662\n",
       "3      r_humidity     0.046744"
      ]
     },
     "execution_count": 154,
     "metadata": {},
     "output_type": "execute_result"
    }
   ],
   "source": [
    "feature_importance"
   ]
  },
  {
   "cell_type": "code",
   "execution_count": 155,
   "id": "ee3e4512",
   "metadata": {},
   "outputs": [
    {
     "data": {
      "image/png": "[encoded data removed]",
      "text/plain": [
       "<Figure size 576x576 with 1 Axes>"
      ]
     },
     "metadata": {
      "needs_background": "light"
     },
     "output_type": "display_data"
    }
   ],
   "source": [
    "plt.figure(figsize=(8,8))\n",
    "sns.barplot(x='RF_Features',y='Features',data=feature_importance)\n",
    "plt.title('RF Important Features',size = 20)\n",
    "plt.show()"
   ]
  },
  {
   "cell_type": "code",
   "execution_count": null,
   "id": "f458002a",
   "metadata": {},
   "outputs": [],
   "source": []
  }
 ],
 "metadata": {
  "kernelspec": {
   "display_name": "Python 3",
   "language": "python",
   "name": "python3"
  },
  "language_info": {
   "codemirror_mode": {
    "name": "ipython",
    "version": 3
   },
   "file_extension": ".py",
   "mimetype": "text/x-python",
   "name": "python",
   "nbconvert_exporter": "python",
   "pygments_lexer": "ipython3",
   "version": "3.8.8"
  }
 },
 "nbformat": 4,
 "nbformat_minor": 5
}
